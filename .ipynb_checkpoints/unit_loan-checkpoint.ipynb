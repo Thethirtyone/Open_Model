{
 "cells": [
  {
   "cell_type": "code",
   "execution_count": 373,
   "metadata": {},
   "outputs": [],
   "source": [
    "# Imports go here\n",
    "import pandas as pd\n",
    "import numpy as np\n",
    "import numpy_financial as npf\n",
    "from datetime import date\n",
    "from IPython.display import display, HTML, display_html\n",
    "import matplotlib.pyplot as plt\n",
    "import matplotlib as mpl\n",
    "%matplotlib inline\n",
    "# Pandas Warnings & Settings\n",
    "pd.options.mode.chained_assignment = None  # default='warn'\n",
    "pd.options.display.float_format = '{:,.2f}'.format"
   ]
  },
  {
   "cell_type": "code",
   "execution_count": 374,
   "metadata": {},
   "outputs": [],
   "source": [
    "class unit_loan():\n",
    "    def __init__(self):\n",
    "        # ------------------------------------------------------------\n",
    "        # LOAN BASIC INFORMATION\n",
    "        # ------------------------------------------------------------\n",
    "        self.product_name = 'Unsecured Personal Loan'\n",
    "        self.ticket_size = 10000        # average loan size\n",
    "        self.term = 30                  # average loan life in months\n",
    "        self.rate = 0.038               # average monthly interest rate\n",
    "        # ------------------------------------------------------------\n",
    "        # DECISION TREE SCENARIO 1 & 2: PAY-AS-EXPECTER OR DEFAULT \n",
    "        # ------------------------------------------------------------\n",
    "        # Overall probability of these 2 combined scenarios is (1 - p3 - p4)\n",
    "        self.fpd30 = 0.05               # First payment default\n",
    "        self.ever30 = 0.45              # Last payment default on PMTs \n",
    "                                        # (this is the percentage of last \n",
    "                                        # payments expected to default)\n",
    "        self.pd_method = {              # Pandas DF interpolation for the pd_table\n",
    "            'method': 'linear',         # for acceptable methods check\n",
    "            'order': 2                  # https://tinyurl.com/6mkuyz6n \n",
    "            }                           # ‘nearest’, ‘zero’, ‘slinear’, ‘quadratic’, \n",
    "                                        # ‘cubic’, ‘spline’, ‘barycentric’, ‘polynomial’\n",
    "        self.pd_table = []              # Additional points can be included as tuples\n",
    "                                        # (month, prob)\n",
    "        self.recovery = 0.02            # In event of default, sale price of balance or\n",
    "                                        # how much can be recovered from charge-offs\n",
    "        # ------------------------------------------------------------\n",
    "        # DECISION TREE SCENARIO 3: CLIENT PRE-PAYS OUTSTANDING BALANCE & CLOSES LOAN\n",
    "        # ------------------------------------------------------------\n",
    "        self.prepay_start = 0.01        # Prepayments expected as percentage\n",
    "        self.prepay_end = 0.03          # Prepayments expected as percentage                                       \n",
    "        self.prepay_discount = 0.05     # On average how much discount is given?\n",
    "        self.prepay_method = {          # Pandas DF interpolation for the table\n",
    "            'method': 'linear',         # for acceptable methods check\n",
    "            'order': 2                  # https://tinyurl.com/6mkuyz6n \n",
    "            }                           # ‘nearest’, ‘zero’, ‘slinear’, ‘quadratic’, \n",
    "        # ------------------------------------------------------------\n",
    "        # DECISION TREE SCENARIO 4: CLIENT REFINANCES, RENEGOTIATES LOAN\n",
    "        # ------------------------------------------------------------\n",
    "        # Assumption here is that the client refinances the outstanding balance\n",
    "        # at a discounted interest rate\n",
    "        # Note: This is a recursion on the unit_loan\n",
    "        self.refi_start = 0.05           # Probability of refinancing at start\n",
    "        self.refi_end = 0.01             # Probability of refinancing at end\n",
    "        self.refi_quality_loss = 0.60    # This loan will have a 40% lower prob of performing\n",
    "        self.refi_method = {             # Pandas DF interpolation for the table\n",
    "            'method': 'linear',          # for acceptable methods check\n",
    "            'order': 2                   # https://tinyurl.com/6mkuyz6n \n",
    "            }                            # ‘nearest’, ‘zero’, ‘slinear’, ‘quadratic’, \n",
    "        \n",
    "\n",
    "    def pmt(self):\n",
    "        # ------------------------------------------------------------\n",
    "        # Create PMT \n",
    "        # ------------------------------------------------------------\n",
    "        pmt = npf.pmt(\n",
    "            self.rate, \n",
    "            self.term,\n",
    "            self.ticket_size)\n",
    "        return (pmt)\n",
    "\n",
    "\n",
    "    def loan_cycle(self):\n",
    "        # SINGLE LOAN LIFE CYCLE\n",
    "        CF_THRESHOLD = 0.90\n",
    "        month = 0\n",
    "        #  Create Empty DF\n",
    "        df = pd.DataFrame(range(0, self.term + 1), columns=['month'])\n",
    "        df['notes'] = ''\n",
    "        # ------------------------------------------------------------\n",
    "        # Create PMT Price table\n",
    "        # ------------------------------------------------------------\n",
    "        df['pmt'] = self.pmt()\n",
    "        df['pmt'].iloc[[0]] = 0\n",
    "        df['pmt_cum'] = df['pmt'].cumsum()\n",
    "        df['ipmt'] = npf.ipmt(self.rate, df.index, self.term, self.ticket_size)\n",
    "        df['ipmt'].iloc[[0]] = 0\n",
    "        df['ppmt'] = npf.ppmt(self.rate, df.index, self.term, self.ticket_size)\n",
    "        df['ppmt'].iloc[[0]] = 0\n",
    "        df['cum_ppmt'] = df['ppmt'].cumsum()\n",
    "        df['balance'] = -self.ticket_size - df['cum_ppmt']\n",
    "        df['balance'] = df['balance'].round(2)\n",
    "        # ------------------------------------------------------------\n",
    "        # Include initial Cash Flows on first month\n",
    "        # CashFlows are calculated on thee company's perspective\n",
    "        # Negative = Outflow; Positive = Inflow\n",
    "        df['cashflow'] = 0\n",
    "        df['cashflow'].iloc[[0]] = -self.ticket_size\n",
    "        df['notes'].iloc[[0]] = 'Start of Loan'\n",
    "        # ------------------------------------------------------------\n",
    "        # Independent Probability Tables \n",
    "        # ------------------------------------------------------------\n",
    "        # Calculate Initial INDEPENDENT Probability of Default and fill df\n",
    "        df['p_default'] = np.nan\n",
    "        df['p_default'].iloc[[0]] = 0\n",
    "        df['p_default'].iloc[[1]] = self.fpd30\n",
    "        df['p_default'].iloc[[-1]] = self.ever30\n",
    "        # Fill with points if any is given         \n",
    "        if self.pd_table is not []:\n",
    "            for item in self.pd_table:\n",
    "                df['p_default'].iloc[[item[0]]] = item[1]\n",
    "        df['p_default'] = df['p_default'].interpolate(**self.pd_method)\n",
    "        # CALCULATE INDEPENDENT PROB of loan performance\n",
    "        df['p_perform'] = (1 - df['p_default'])\n",
    "        # CALCULATE INDEPENDENT PROB of a Pre-Payment\n",
    "        df['p_prepay'] = np.nan\n",
    "        df['p_prepay'].iloc[[0]] = 0\n",
    "        df['p_prepay'].iloc[[1]] = self.prepay_start\n",
    "        df['p_prepay'].iloc[[-1]] = self.prepay_end\n",
    "        df['p_prepay'] = df['p_prepay'].interpolate(**self.prepay_method)\n",
    "        # CALCULATE INDEPENDENT PROB of a Refi\n",
    "        df['p_refi'] = np.nan\n",
    "        df['p_refi'].iloc[[0]] = 0\n",
    "        df['p_refi'].iloc[[1]] = self.refi_start\n",
    "        df['p_refi'].iloc[[-1]] = self.refi_end\n",
    "        df['p_refi'] = df['p_refi'].interpolate(**self.refi_method)\n",
    "        # -------------------------------------------------\n",
    "        # Now calculate the cumulative probabilities\n",
    "        # These are the ones used to calculated the expected \n",
    "        # probability adjusted cash flows\n",
    "        # -------------------------------------------------\n",
    "        # 1. PERFORM + PAY PMT as expected (i.e. DID NOT prepay)\n",
    "        df['p_perform_and_pmt'] = df['p_perform'] * (1- df['p_prepay'])\n",
    "        # 2. PERFORM + PRE PAY LOAN\n",
    "        df['p_perform_and_prepay'] = df['p_perform'] * (df['p_prepay'])\n",
    "        # 3. NOT PERFORM + DEFAULT (i.e. DID NOT REFI)\n",
    "        df['p_notperform_default'] = df['p_default'] * (1- df['p_refi'])\n",
    "        # 4. NOT PERFORM + REFI\n",
    "        df['p_notperform_refi'] = df['p_default'] * (df['p_refi'])\n",
    "        # -------------------------------------------------\n",
    "        # Calculate the probability adjusted expected cash flows\n",
    "        # -------------------------------------------------\n",
    "        # 1. PERFORM + PAY PMT as expected (i.e. DID NOT prepay)\n",
    "        df['cf_perform_and_pmt'] = -df['pmt'] * df['p_perform_and_pmt']\n",
    "        df['cashflow'] += df['cf_perform_and_pmt']\n",
    "        # 2. PERFORM + PRE PAY LOAN\n",
    "        df['cf_perform_and_prepay'] = (\n",
    "            df['p_perform_and_prepay'] * \n",
    "            -df['balance'] * \n",
    "            (1 - self.prepay_discount)\n",
    "        )\n",
    "        df['cashflow'] += df['cf_perform_and_prepay']\n",
    "        # 3. NOT PERFORM + DEFAULT\n",
    "        df['cf_notperform_default'] = (\n",
    "            df['p_notperform_default'] *\n",
    "            -df['balance'] * \n",
    "            self.recovery)\n",
    "        df['cashflow'] += df['cf_notperform_default']\n",
    "        # 4. NOT PERFORM + RECOVERY / Refi this loan\n",
    "        # Assumption here is that, on average, a refi loan will still receive\n",
    "        # the PMTs but at an adjusted probability. There's a bump on the default\n",
    "        # curve given the loss of quality\n",
    "        df['cf_notperform_refi'] = (\n",
    "            df['p_notperform_refi'] * \n",
    "            -df['pmt'] * \n",
    "            (1 - self.refi_quality_loss)\n",
    "        )\n",
    "        df['cashflow'] += df['cf_notperform_refi']\n",
    "        # -------------------------------------------------\n",
    "        # Other CashFlow Metrics \n",
    "        # -------------------------------------------------\n",
    "        df['cashflow_cum'] = df['cashflow'].cumsum()\n",
    "        return df\n",
    "        \n",
    "\n",
    "    def stats(self):\n",
    "        df = self.loan_cycle()\n",
    "        stats = {}\n",
    "        stats['irr'] = round(npf.irr(df['cashflow'].values), 4)\n",
    "        stats['gross_interest_income'] = -df['ipmt'].sum()\n",
    "        stats['months_to_be'] = df.cashflow_cum.lt(0).idxmin()\n",
    "        stats['months_to_be_perc_total'] = stats['months_to_be'] / self.term\n",
    "        stats['sum_pmts'] = df['cashflow'].sum() + self.ticket_size\n",
    "        stats['MOIC'] = (stats['sum_pmts']) / self.ticket_size\n",
    "        return (stats)\n",
    "\n",
    "    \n",
    "    def pd_chart(self):\n",
    "        # PD Table Chart\n",
    "        df = self.loan_cycle()\n",
    "        ax = df.plot(kind='bar',\n",
    "                        x='month',\n",
    "                        y=['p_default','p_refi', 'p_prepay'], \n",
    "                        width=1,\n",
    "                        figsize=(10,5))\n",
    "\n",
    "        ax.yaxis.set_major_formatter(mpl.ticker.StrMethodFormatter('{x:,.4f}'))\n",
    "        ax.set_axisbelow(True)\n",
    "        font = {'family': 'arial',\n",
    "                'color':  \"#2c6a3e\",\n",
    "                'weight': 'bold',\n",
    "                'size': 12\n",
    "                }\n",
    "        plt.grid(True)\n",
    "        plt.title('Probability Chart x Time', fontdict=font)\n",
    "        plt.show()\n",
    "\n",
    "        \n",
    "    def cf_chart(self):\n",
    "        df = self.loan_cycle()\n",
    "        ax = df.plot(kind='bar',\n",
    "                     stacked=True,\n",
    "                     width=0.90,\n",
    "                     x='month',\n",
    "                     y=['cf_perform_and_pmt',\n",
    "                        'cf_perform_and_prepay', \n",
    "                        'cf_notperform_default', \n",
    "                        'cf_notperform_refi'], \n",
    "                     figsize=(10,5))\n",
    "        ax.set_axisbelow(True)\n",
    "        ax.yaxis.set_major_formatter(mpl.ticker.StrMethodFormatter('{x:,.2f}'))\n",
    "\n",
    "        font = {'family': 'arial',\n",
    "                'color':  \"#2c6a3e\",\n",
    "                'weight': 'bold',\n",
    "                'size': 12\n",
    "                }\n",
    "        plt.title('Cash Flow Chart', fontdict=font)\n",
    "        plt.grid(True)\n",
    "        plt.show()\n",
    "        \n",
    "    def unit_econ(self, chart=False):\n",
    "        # Calculate the Unit Economics for the loan\n",
    "        df = self.loan_cycle()\n",
    "        fiat_dict = {\n",
    "            'principal': self.ticket_size,\n",
    "            'expected_interest_income': self.stats()['gross_interest_income'],\n",
    "            'total_cash_flows_received': df['cashflow'].sum() + self.ticket_size,\n",
    "            'cf_perform_and_pmt': df['cf_perform_and_pmt'].sum(),\n",
    "            'cf_perform_and_prepay': df['cf_perform_and_prepay'].sum(),\n",
    "            'cf_notperform_default': df['cf_notperform_default'].sum(),\n",
    "            'cf_notperform_refi': df['cf_notperform_refi'].sum()\n",
    "        }\n",
    "        # Gap is how much is missing from the total expected with no defaults\n",
    "        fiat_dict['gap'] = (fiat_dict['total_cash_flows_received'] - \n",
    "                   (fiat_dict['principal'] + \n",
    "                    fiat_dict['expected_interest_income']))\n",
    "        \n",
    "        if chart is False:\n",
    "            return fiat_dict\n",
    "        \n",
    "        else:\n",
    "            # Chart 1: Defaults in fiat terms\n",
    "            index = ['Principal','Interest', 'Pay back Principal', 'Defaults'] \n",
    "            data = {\n",
    "                'amount': [\n",
    "                    fiat_dict['principal'], \n",
    "                    fiat_dict['expected_interest_income'], \n",
    "                    -fiat_dict['principal'],\n",
    "                    fiat_dict['gap']\n",
    "                ]\n",
    "            }\n",
    "            # Data needs to be cumulative and cleaned\n",
    "            # see: https://pbpython.com/waterfall-chart.html\n",
    "            trans = pd.DataFrame(data=data,index=index)\n",
    "            trans_perc = pd.DataFrame(data=data,index=index)\n",
    "            trans_perc['amount'] = trans_perc['amount'] / self.ticket_size * 100\n",
    "            \n",
    "            # Plot DF             \n",
    "            def plot_ue(trans):\n",
    "                blank=trans.amount.cumsum().shift(1).fillna(0)\n",
    "                total = trans.sum().amount\n",
    "                trans.loc[\"gross margin\"] = total\n",
    "                blank.loc[\"gross margin\"] = total\n",
    "                step = blank.reset_index(drop=True).repeat(3).shift(-1)\n",
    "                step[1::3] = np.nan\n",
    "                blank.loc[\"gross margin\"] = 0\n",
    "                ax = trans.plot(\n",
    "                    kind='bar', \n",
    "                    stacked=True, \n",
    "                    bottom=blank,\n",
    "                    legend=None, \n",
    "                    figsize=(10,5))\n",
    "                ax.yaxis.set_major_formatter(mpl.ticker.StrMethodFormatter('{x:,.4f}'))\n",
    "                ax.set_axisbelow(True)\n",
    "                font = {'family': 'arial',\n",
    "                    'color':  \"#2c6a3e\",\n",
    "                    'weight': 'bold',\n",
    "                    'size': 12\n",
    "                    }\n",
    "                plt.title(\"Loan Unit Economics\", fontdict=font)\n",
    "                plt.grid(True)\n",
    "                plt.plot(step.index, step.values,'k')\n",
    "\n",
    "            # Chart 1: Defaults in fiat terms    \n",
    "            plot_ue(trans)    \n",
    "            # Chart 2: Defaults in percentage terms\n",
    "            plot_ue(trans_perc)\n",
    "            # Show tables\n",
    "            df1_styler = trans.style.set_table_attributes(\"style='display:inline'\").set_caption('UE in $').format('{:,.2f}'.format)\n",
    "            df2_styler = trans_perc.style.set_table_attributes(\"style='display:inline'\").set_caption('UE in %').format('{:,.2f}'.format)\n",
    "            display_html(df1_styler._repr_html_()+df2_styler._repr_html_(), raw=True)\n",
    "    \n",
    "        "
   ]
  },
  {
   "cell_type": "markdown",
   "metadata": {},
   "source": [
    "# Unit Loan\n",
    "\n",
    "## Description\n",
    "\n",
    "The unit loan pricing starts with a standard `price` table and adjusts cash flows to different events. On each month the loan can either:\n",
    "\n",
    "1. Perform (p)\n",
    "\n",
    "    a. PMTs paid as expected\n",
    "\n",
    "    b. Loan balance is paid early \n",
    "\n",
    "2. Not Perform (1 - p)\n",
    "\n",
    "    a. Refinanced / Rescheduled\n",
    "    \n",
    "    b. Defaults (and loan is sold off)\n",
    "    \n",
    "A probability tree is built with each of these scenarios.\n",
    "\n",
    "## Sample Loan and Analysis\n",
    "\n",
    "Let's start by creating a sample loan as an empty object and changing some of the assumptions.\n"
   ]
  },
  {
   "cell_type": "code",
   "execution_count": 375,
   "metadata": {},
   "outputs": [],
   "source": [
    "# Create empty instance with defaults\n",
    "loan = unit_loan()\n",
    "loan.rate = 0.04\n",
    "loan.term = 25\n",
    "loan.ticket_size = 10000\n",
    "loan.fpd30 = 0.06\n",
    "loan.ever30 = 0.50\n",
    "loan.prepay_start = 0.005\n",
    "loan.prepay_end = 0.01\n",
    "loan.refi_start = 0.03\n",
    "loan.refi_end = 0.01\n",
    "# Assume we know that on the 20th month, the prob of default = 44% \n",
    "loan.pd_table.append((15, 0.44))\n",
    "# Now with FPD, EVER and the point above we can interpolate\n",
    "loan.pd_method = {'method': 'pchip', 'order': 3}"
   ]
  },
  {
   "cell_type": "markdown",
   "metadata": {},
   "source": [
    "#### With the changes above, we can now see how the default curve is shaped"
   ]
  },
  {
   "cell_type": "code",
   "execution_count": 376,
   "metadata": {},
   "outputs": [
    {
     "data": {
      "image/png": "[encoded data removed]",
      "text/plain": [
       "<Figure size 720x360 with 1 Axes>"
      ]
     },
     "metadata": {
      "needs_background": "light"
     },
     "output_type": "display_data"
    }
   ],
   "source": [
    "loan.pd_chart()"
   ]
  },
  {
   "cell_type": "markdown",
   "metadata": {},
   "source": [
    " #### We can also see the loan cash flows and summary stats"
   ]
  },
  {
   "cell_type": "code",
   "execution_count": 377,
   "metadata": {},
   "outputs": [],
   "source": [
    "df = loan.loan_cycle()\n",
    "# First 3 months as an example"
   ]
  },
  {
   "cell_type": "markdown",
   "metadata": {},
   "source": [
    "#### To copy the loan dataframe to Excel, run the code below"
   ]
  },
  {
   "cell_type": "code",
   "execution_count": 378,
   "metadata": {},
   "outputs": [],
   "source": [
    "df.to_clipboard(excel=True,sep='\\t')"
   ]
  },
  {
   "cell_type": "code",
   "execution_count": 379,
   "metadata": {},
   "outputs": [
    {
     "data": {
      "image/png": "[encoded data removed]",
      "text/plain": [
       "<Figure size 720x360 with 1 Axes>"
      ]
     },
     "metadata": {
      "needs_background": "light"
     },
     "output_type": "display_data"
    }
   ],
   "source": [
    "loan.cf_chart()"
   ]
  },
  {
   "cell_type": "code",
   "execution_count": 380,
   "metadata": {},
   "outputs": [
    {
     "data": {
      "text/plain": [
       "{'irr': 0.0133,\n",
       " 'gross_interest_income': 6002.990696613654,\n",
       " 'months_to_be': 21,\n",
       " 'months_to_be_perc_total': 0.84,\n",
       " 'sum_pmts': 11584.647574593972,\n",
       " 'MOIC': 1.1584647574593971}"
      ]
     },
     "execution_count": 380,
     "metadata": {},
     "output_type": "execute_result"
    }
   ],
   "source": [
    "loan.stats()"
   ]
  },
  {
   "cell_type": "code",
   "execution_count": 381,
   "metadata": {},
   "outputs": [
    {
     "data": {
      "text/plain": [
       "{'principal': 10000,\n",
       " 'expected_interest_income': 6002.990696613654,\n",
       " 'total_cash_flows_received': 11584.647574593972,\n",
       " 'cf_perform_and_pmt': 10113.699595322498,\n",
       " 'cf_perform_and_prepay': 604.2705299395507,\n",
       " 'cf_notperform_default': 825.0180099316289,\n",
       " 'cf_notperform_refi': 41.65943940029241,\n",
       " 'gap': -4418.3431220196835}"
      ]
     },
     "execution_count": 381,
     "metadata": {},
     "output_type": "execute_result"
    }
   ],
   "source": [
    "loan.unit_econ()"
   ]
  },
  {
   "cell_type": "code",
   "execution_count": 382,
   "metadata": {},
   "outputs": [
    {
     "data": {
      "text/html": [
       "<style type=\"text/css\">\n",
       "</style>\n",
       "<table id=\"T_8b80a_\" style='display:inline'>\n",
       "  <caption>UE in $</caption>\n",
       "  <thead>\n",
       "    <tr>\n",
       "      <th class=\"blank level0\" >&nbsp;</th>\n",
       "      <th class=\"col_heading level0 col0\" >amount</th>\n",
       "    </tr>\n",
       "  </thead>\n",
       "  <tbody>\n",
       "    <tr>\n",
       "      <th id=\"T_8b80a_level0_row0\" class=\"row_heading level0 row0\" >Principal</th>\n",
       "      <td id=\"T_8b80a_row0_col0\" class=\"data row0 col0\" >10,000.00</td>\n",
       "    </tr>\n",
       "    <tr>\n",
       "      <th id=\"T_8b80a_level0_row1\" class=\"row_heading level0 row1\" >Interest</th>\n",
       "      <td id=\"T_8b80a_row1_col0\" class=\"data row1 col0\" >6,002.99</td>\n",
       "    </tr>\n",
       "    <tr>\n",
       "      <th id=\"T_8b80a_level0_row2\" class=\"row_heading level0 row2\" >Pay back Principal</th>\n",
       "      <td id=\"T_8b80a_row2_col0\" class=\"data row2 col0\" >-10,000.00</td>\n",
       "    </tr>\n",
       "    <tr>\n",
       "      <th id=\"T_8b80a_level0_row3\" class=\"row_heading level0 row3\" >Defaults</th>\n",
       "      <td id=\"T_8b80a_row3_col0\" class=\"data row3 col0\" >-4,418.34</td>\n",
       "    </tr>\n",
       "    <tr>\n",
       "      <th id=\"T_8b80a_level0_row4\" class=\"row_heading level0 row4\" >gross margin</th>\n",
       "      <td id=\"T_8b80a_row4_col0\" class=\"data row4 col0\" >1,584.65</td>\n",
       "    </tr>\n",
       "  </tbody>\n",
       "</table>\n",
       "<style type=\"text/css\">\n",
       "</style>\n",
       "<table id=\"T_73712_\" style='display:inline'>\n",
       "  <caption>UE in %</caption>\n",
       "  <thead>\n",
       "    <tr>\n",
       "      <th class=\"blank level0\" >&nbsp;</th>\n",
       "      <th class=\"col_heading level0 col0\" >amount</th>\n",
       "    </tr>\n",
       "  </thead>\n",
       "  <tbody>\n",
       "    <tr>\n",
       "      <th id=\"T_73712_level0_row0\" class=\"row_heading level0 row0\" >Principal</th>\n",
       "      <td id=\"T_73712_row0_col0\" class=\"data row0 col0\" >100.00</td>\n",
       "    </tr>\n",
       "    <tr>\n",
       "      <th id=\"T_73712_level0_row1\" class=\"row_heading level0 row1\" >Interest</th>\n",
       "      <td id=\"T_73712_row1_col0\" class=\"data row1 col0\" >60.03</td>\n",
       "    </tr>\n",
       "    <tr>\n",
       "      <th id=\"T_73712_level0_row2\" class=\"row_heading level0 row2\" >Pay back Principal</th>\n",
       "      <td id=\"T_73712_row2_col0\" class=\"data row2 col0\" >-100.00</td>\n",
       "    </tr>\n",
       "    <tr>\n",
       "      <th id=\"T_73712_level0_row3\" class=\"row_heading level0 row3\" >Defaults</th>\n",
       "      <td id=\"T_73712_row3_col0\" class=\"data row3 col0\" >-44.18</td>\n",
       "    </tr>\n",
       "    <tr>\n",
       "      <th id=\"T_73712_level0_row4\" class=\"row_heading level0 row4\" >gross margin</th>\n",
       "      <td id=\"T_73712_row4_col0\" class=\"data row4 col0\" >15.85</td>\n",
       "    </tr>\n",
       "  </tbody>\n",
       "</table>\n"
      ]
     },
     "metadata": {},
     "output_type": "display_data"
    },
    {
     "data": {
      "image/png": "[encoded data removed]",
      "text/plain": [
       "<Figure size 720x360 with 1 Axes>"
      ]
     },
     "metadata": {
      "needs_background": "light"
     },
     "output_type": "display_data"
    },
    {
     "data": {
      "image/png": "[encoded data removed]",
      "text/plain": [
       "<Figure size 720x360 with 1 Axes>"
      ]
     },
     "metadata": {
      "needs_background": "light"
     },
     "output_type": "display_data"
    }
   ],
   "source": [
    "loan.unit_econ(chart=True)"
   ]
  },
  {
   "cell_type": "code",
   "execution_count": null,
   "metadata": {},
   "outputs": [],
   "source": []
  }
 ],
 "metadata": {
  "interpreter": {
   "hash": "4cd7ab41f5fca4b9b44701077e38c5ffd31fe66a6cab21e0214b68d958d0e462"
  },
  "kernelspec": {
   "display_name": "myenv",
   "language": "python",
   "name": "myenv"
  },
  "language_info": {
   "codemirror_mode": {
    "name": "ipython",
    "version": 3
   },
   "file_extension": ".py",
   "mimetype": "text/x-python",
   "name": "python",
   "nbconvert_exporter": "python",
   "pygments_lexer": "ipython3",
   "version": "3.9.1"
  }
 },
 "nbformat": 4,
 "nbformat_minor": 4
}
