{
 "cells": [
  {
   "cell_type": "code",
   "execution_count": 1,
   "metadata": {},
   "outputs": [
    {
     "name": "stdout",
     "output_type": "stream",
     "text": [
      "importing Jupyter notebook from unit_loan.ipynb\n"
     ]
    }
   ],
   "source": [
    "# Imports go here\n",
    "import pandas as pd\n",
    "import numpy as np\n",
    "import numpy_financial as npf\n",
    "from datetime import date\n",
    "from copy import deepcopy\n",
    "from IPython.display import display, HTML, display_html\n",
    "from highcharts import Highchart\n",
    "from chart_builder import plot_chart, CHART_DEFAULTS\n",
    "# Pandas Warnings & Settings\n",
    "pd.options.mode.chained_assignment = None  # default='warn'\n",
    "pd.options.display.float_format = '{:,.2f}'.format\n",
    "# Import Unit Loan from the unit_loan notebook\n",
    "import import_ipynb\n",
    "from unit_loan import unit_loan\n",
    "from utils import pickle_it, make_safe_filename"
   ]
  },
  {
   "cell_type": "code",
   "execution_count": 2,
   "metadata": {},
   "outputs": [],
   "source": [
    "class unit_client():\n",
    "    def __init__(self):\n",
    "        # ------------------------------------------------------------\n",
    "        # CLIENT BASIC INFORMATION\n",
    "        # ------------------------------------------------------------\n",
    "        self.client_type = 'Persona XYZ'\n",
    "        self.client_score = '80'\n",
    "        self.products = []  # This is where a list of unit_loans will be stored\n",
    "                            # Storage dict should follow the format below\n",
    "                            # {\n",
    "                            # 'product': unit_loan_object,\n",
    "                            # 'start month': 0, \n",
    "                            # 'lifetime_cycles': 1,  <How many times client will renew this product>\n",
    "                            # 'renewal_rate': 0.40,          <40% of balance is renewed>\n",
    "                            # 'improvement_at_renewal': 0.8, <Default curve is 80% of previous> \n",
    "                            # }\n",
    "                            \n",
    "    def validate(self):\n",
    "        # products can't be empty\n",
    "        if self.products == []:\n",
    "            raise Exception(\"Product List cannot be empty\")\n",
    "        required = [\"product\", \n",
    "                    \"start_month\", \n",
    "                    \"renewal_rate\", \n",
    "                    \"improvement_at_renewal\"]\n",
    "        for product in self.products:\n",
    "            if not all (k in product for k in required):\n",
    "                raise Exception(f\"Product is incomplete - required: {required}\")\n",
    "\n",
    "    def save(self):\n",
    "        file_name = make_safe_filename(str(self.client_type))\n",
    "        pickle_it('save', file_name + '.pkl', self)\n",
    "                \n",
    "    def ltv(self):\n",
    "        self.validate()\n",
    "        # Create an empty dict to store information about the products\n",
    "        stats = {}\n",
    "        # Create Empty DF\n",
    "        df_ltv = pd.DataFrame(columns=['month', 'cashflow', 'balance'])\n",
    "        for prod in self.products:\n",
    "            product = deepcopy(prod['product'])\n",
    "            # Create an empty dict for this product (saved by unique ID)\n",
    "            stats[product.uuid] = {\n",
    "                'start_month_list': [],\n",
    "                'end_month_list': [],\n",
    "                'ticket_size_list': [],\n",
    "                'performing_list': [],\n",
    "                'fpd30_ever30_list': [],   #stored as a list of tuples\n",
    "            }\n",
    "            \n",
    "            start_month = prod['start_month']\n",
    "            end_month = start_month + product.term\n",
    "            # Check how many times this client will renew this loan\n",
    "            try:\n",
    "                repeat = prod['lifetime_cycles']\n",
    "            except KeyError:\n",
    "                repeat = 1\n",
    "            # Repeat this product for as many cycles as requested             \n",
    "            for cycle in range(0, repeat):\n",
    "                df_p = product.loan_cycle()\n",
    "                df_p.index =  range(start_month, end_month + 1)\n",
    "                # Merge this into the LTV dataframe\n",
    "                df_ltv = df_ltv.add(df_p[['cashflow', 'balance']], fill_value=0)\n",
    "                # --------------- Repeat Loan -----------------            \n",
    "                # Calculate second loan from this client\n",
    "                # Renewal size is renewal_rate x the final \"perform and pay\" probability\n",
    "                # Assumption is that clients that pre-pay, do not renew                 \n",
    "                \n",
    "                # Store values first\n",
    "                stats[product.uuid]['start_month_list'].append(start_month)\n",
    "                stats[product.uuid]['end_month_list'].append(end_month)\n",
    "                stats[product.uuid]['ticket_size_list'].append(product.ticket_size)\n",
    "                stats[product.uuid]['fpd30_ever30_list'].append(\n",
    "                    (product.fpd30, product.ever30))\n",
    "\n",
    "                # Adjust Months              \n",
    "                start_month = end_month + 1\n",
    "                end_month = start_month + product.term\n",
    "                \n",
    "                \n",
    "                # Adjust Loan Notional (Tkt Size)\n",
    "                performing_clients_at_end = df_p['p_perform_and_pmt'].iloc[-1]\n",
    "                # Store it\n",
    "                stats[product.uuid]['performing_list'].append(performing_clients_at_end)\n",
    "                product.ticket_size = (product.ticket_size *\n",
    "                                       performing_clients_at_end *\n",
    "                                       prod['renewal_rate'])\n",
    "                # Adjust for better credit quality on these clients\n",
    "                product.fpd30 = product.fpd30 * prod['improvement_at_renewal']\n",
    "                product.ever30 = product.ever30 * prod['improvement_at_renewal']\n",
    "                \n",
    "        df_ltv['month'] = df_ltv.index\n",
    "        return(df_ltv, stats)\n",
    "    \n",
    "    def bar_chart(self, column='cashflow'):\n",
    "        # Cash Flow Chart\n",
    "        df, _ = self.ltv()\n",
    "        x = df['month'].to_list()\n",
    "        y = df[column].to_list()\n",
    "        return (plot_chart(\n",
    "            x, y, 'months', column.lower(), 'bar', column.upper(), f'{column.upper()} x Time'))\n",
    "\n",
    "    \n",
    "    def html_table(self):\n",
    "        df, stats = self.ltv()\n",
    "        heading = '<h1>Summary Results for Client</h1>'\n",
    "        display(HTML(heading))\n",
    "        \n",
    "        table_html = '''\n",
    "        <table>\n",
    "        <thead>\n",
    "          <tr>\n",
    "            <td style='text-align: left;'>\n",
    "              Product\n",
    "            </td>\n",
    "            <td style='text-align: right;'>\n",
    "                Ticket Size\n",
    "            </td>\n",
    "            <td>\n",
    "                Interest Rate\n",
    "            </td>\n",
    "            <td>\n",
    "                FPD30\n",
    "            </td>\n",
    "            <td>\n",
    "                EVER30\n",
    "            </td>\n",
    "            <td>\n",
    "                Renewal<br>Rate\n",
    "            </td>\n",
    "            <td>\n",
    "                Improvement<br>Rate\n",
    "            </td>\n",
    "          </tr>\n",
    "        </thead>\n",
    "        <tbody>\n",
    "        '''\n",
    "        \n",
    "        for product in client.products:\n",
    "            tkt = \"{0:,.0f}\".format(product['product'].ticket_size)\n",
    "            ir = \"{0:,.2f}\".format(product['product'].rate * 100) \n",
    "            fpd30 = \"{0:,.2f}\".format(product['product'].fpd30 * 100) \n",
    "            ever30 = \"{0:,.2f}\".format(product['product'].ever30 * 100) \n",
    "            start_month = \"{0:,.0f}\".format(product['start_month'])\n",
    "            ren = \"{0:,.2f}\".format(product['renewal_rate'] * 100)\n",
    "            imp = \"{0:,.2f}\".format(product['improvement_at_renewal'] * 100)\n",
    "            table_html += (\n",
    "                \"<tr><td style='text-align: left;'>\" + \n",
    "                product['product'].product_name + \n",
    "                \"</td>\" + \n",
    "                \"<td style='text-align: right;'> $\"+ tkt +\"</td>\" + \n",
    "                \"<td style='text-align: right;'>\"+ ir +\"%</td>\" + \n",
    "                \"<td style='text-align: right;'>\"+ fpd30 +\"%</td>\" + \n",
    "                \"<td style='text-align: right;'>\"+ ever30 +\"%</td>\" + \n",
    "                \"<td style='text-align: right;'>\"+ ren +\"%</td>\" +\n",
    "                \"<td style='text-align: right;'>\"+ imp +\"%</td>\" + \n",
    "                \"</tr>\")\n",
    "            \n",
    "        table_html += '</tbody></table>'\n",
    "        display(HTML(table_html))\n",
    "        \n",
    "        # Detailed Product Info\n",
    "        heading = '<h1>Product Lifetime Info</h1>'\n",
    "        display(HTML(heading))\n",
    "        \n",
    "        for product in client.products:\n",
    "            uuid = product['product'].uuid\n",
    "            html_t = ''\n",
    "            html_t += '<h2>' + product['product'].product_name + '</h2><hr>'\n",
    "            html_t += \"\"\"\n",
    "            <table>\n",
    "            <tbody>\n",
    "            <tr>\n",
    "                <th>Cycle</th> \n",
    "            \"\"\"\n",
    "            counter = 1\n",
    "            for element in stats[uuid]['start_month_list']:\n",
    "                html_t += f'<th>{str(counter)}</th>'\n",
    "                counter += 1\n",
    "            html_t += '</tr>'\n",
    "            \n",
    "            html_t += '<tr><td>Start Month</td>'\n",
    "            for element in stats[uuid]['start_month_list']:\n",
    "                el = \"{0:,.0f}\".format(element)\n",
    "                html_t += '<td>' + el + '</td>'\n",
    "            html_t += '</tr>'\n",
    "            \n",
    "            html_t += '<tr><td>End Month</td>'\n",
    "            for element in stats[uuid]['end_month_list']:\n",
    "                el = \"{0:,.0f}\".format(element)\n",
    "                html_t += '<td>' + el + '</td>'\n",
    "            html_t += '</tr>'\n",
    "            \n",
    "            html_t += '<tr><td>Ticket Size</td>'\n",
    "            for element in stats[uuid]['ticket_size_list']:\n",
    "                el = \"{0:,.0f}\".format(element)\n",
    "                html_t += '<td> $' + el + '</td>'\n",
    "            html_t += '</tr>'\n",
    "            \n",
    "            html_t += '<tr><td>FPD30 - EVER30</td>'\n",
    "            for element in stats[uuid]['fpd30_ever30_list']:\n",
    "                el1 = \"{0:,.2f}\".format(element[0] * 100)\n",
    "                el2 = \"{0:,.2f}\".format(element[1] * 100)\n",
    "                html_t += '<td>' + el1 + '% - ' +  el2 + '%</td>'\n",
    "            html_t += '</tr>'\n",
    "            \n",
    "            html_t += '<tr><td>Performing (Cycle)</td>'\n",
    "            for element in stats[uuid]['performing_list']:\n",
    "                el1 = \"{0:,.2f}\".format(element * 100)\n",
    "                html_t += '<td>' + el1 + ' %</td>'\n",
    "            html_t += '</tr>'\n",
    "            \n",
    "            html_t += '<tr><td>Performing (Start)</td>'\n",
    "            perf_cum = 1\n",
    "            for element in stats[uuid]['performing_list']:\n",
    "                perf_cum = perf_cum * element \n",
    "                el1 = \"{0:,.2f}\".format(perf_cum * 100)\n",
    "                html_t += '<td>' + el1 + ' %</td>'\n",
    "            html_t += '</tr>'\n",
    "            \n",
    "            html_t += '</tbody></table>'\n",
    "            display(HTML(html_t))\n",
    "        \n",
    "        \n",
    "        # Glossary\n",
    "        add_info = \"\"\"\n",
    "        <h3>Glossary</h3>\n",
    "        <table>\n",
    "            <tbody>\n",
    "            <tr>\n",
    "                <td style='text-align: left;'><strong>ℹ️ Ticket Size</strong></td>\n",
    "                <td style='text-align: left;'>Average First Ticket for this product and this client base</td>\n",
    "            </tr>\n",
    "            <tr>\n",
    "                <td style='text-align: left;'><strong>ℹ️ Interest Rate</strong></td>\n",
    "                <td style='text-align: left;'>Average monthly interest rate</td>\n",
    "            </tr>\n",
    "            <tr>\n",
    "                <td style='text-align: left;'><strong>ℹ️ FPD30</strong></td>\n",
    "                <td style='text-align: left;'>First Payment Default. This is the percentage of payments expected to be received\n",
    "                after 30 days. For example, FPD30 = 2% equals 98% of payments are received.\n",
    "                </td>\n",
    "            </tr>\n",
    "            <tr>\n",
    "                <td style='text-align: left;'><strong>ℹ️ EVER30</strong></td>\n",
    "                <td style='text-align: left;'>Like FPD30, this is a percentage of payments received. But on the last payment\n",
    "                month instead of the first month.</td>\n",
    "            </tr>\n",
    "            <tr>\n",
    "                <td style='text-align: left;'><strong>ℹ️ Renewal Rate</strong></td>\n",
    "                <td style='text-align: left;'>Percentage of clients that renew the loan after fully paid. Please note this\n",
    "                only applies to performing clients.</td>\n",
    "            </tr>\n",
    "            <tr>\n",
    "                <td style='text-align: left;'><strong>ℹ️ Improvement Rate</strong></td>\n",
    "                <td style='text-align: left;'>For clients that renew, how much their FPD30 and EVER30 improve. 0.80 means that the\n",
    "            new FPD30 is 80% of the previous.</td>\n",
    "            </tr>\n",
    "            <tr>\n",
    "                <td style='text-align: left;'><strong>ℹ️ Performing Cycle</strong></td>\n",
    "                <td style='text-align: left;'>At the end of the cycle, how many clients are performing on their loans. NOTE: This is not a percentage based on initial number of clients but rather from the start of that specific cycle - i.e. this number will increase.</td>\n",
    "            </tr>\n",
    "            </tbody>\n",
    "        </table>\n",
    "        \"\"\"\n",
    "        display(HTML(add_info))"
   ]
  },
  {
   "cell_type": "markdown",
   "metadata": {},
   "source": [
    "## Sample Client and Analysis\n",
    "\n",
    "Let's start by creating a sample client as an empty object and changing some of the assumptions.\n",
    "For the example below we are assuming the client has 2 products.\n"
   ]
  },
  {
   "cell_type": "code",
   "execution_count": 3,
   "metadata": {},
   "outputs": [],
   "source": [
    "# Create empty instance and input assumptions\n",
    "client = unit_client()\n",
    "\n",
    "# This info will be used for channel consolidation later\n",
    "client.client_type = 'Geru A'\n",
    "client.client_score = 80\n",
    "\n",
    "# _________________________________________________________________\n",
    "#\n",
    "# First product for this client - Unsecured Personal Loan\n",
    "# _________________________________________________________________\n",
    "loan = unit_loan()\n",
    "\n",
    "loan.product_name = 'Unsecured Personal Loan'\n",
    "loan.rate = 0.04\n",
    "loan.term = 36\n",
    "loan.ticket_size = 10000\n",
    "loan.fpd30 = 0.05\n",
    "loan.ever30 = 0.45\n",
    "loan.prepay_start = 0.01\n",
    "loan.prepay_end = 0.01\n",
    "loan.refi_start = 0.02\n",
    "loan.refi_end = 0.01\n",
    "loan.pd_table.append((15, 0.38))\n",
    "loan.pd_method = {'method': 'pchip', 'order': 3}\n",
    "\n",
    "# Attach this loan to the client object\n",
    "product = {\n",
    "    'product': loan,\n",
    "    'start_month': 0,\n",
    "    'renewal_rate': 0.40,\n",
    "    'improvement_at_renewal': 0.80\n",
    "    }\n",
    "client.products.append(product)\n",
    "\n",
    "# _________________________________________________________________\n",
    "#\n",
    "# Second product for this client - Unsecured Personal Loan 'LIMITINHO'\n",
    "# _________________________________________________________________\n",
    "loan = unit_loan()\n",
    "loan.product_name = 'Limitinho'\n",
    "loan.rate = 0.08\n",
    "loan.term = 6\n",
    "loan.ticket_size = 1000\n",
    "loan.fpd30 = 0.01\n",
    "loan.ever30 = 0.05\n",
    "loan.prepay_start = 0.1\n",
    "loan.prepay_end = 0.1\n",
    "loan.refi_start = 0.01\n",
    "loan.refi_end = 0.01\n",
    "loan.pd_table.append((3, 0.05))\n",
    "loan.pd_method = {'method': 'pchip', 'order': 3}\n",
    "\n",
    "# Attach this loan to the client object\n",
    "product = {\n",
    "    'product': loan,\n",
    "    'start_month': 3,\n",
    "    'renewal_rate': 0.80,\n",
    "    'improvement_at_renewal': 0.80,\n",
    "    'lifetime_cycles': 10,\n",
    "    }\n",
    "client.products.append(product)\n",
    "\n",
    "client.validate()\n",
    "client.save()"
   ]
  },
  {
   "cell_type": "markdown",
   "metadata": {},
   "source": [
    "#### Charts "
   ]
  },
  {
   "cell_type": "code",
   "execution_count": 4,
   "metadata": {},
   "outputs": [
    {
     "data": {
      "text/html": [
       "<iframe style=\"border:0;outline:none;overflow:hidden\" srcdoc=\"&lt;!DOCTYPE html&gt; &lt;html lang=&quot;en&quot;&gt; &lt;head&gt; &lt;meta charset=&quot;utf-8&quot; /&gt; &lt;link href=&quot;https://www.highcharts.com/highslide/highslide.css&quot; rel=&quot;stylesheet&quot; /&gt; &lt;script type=&quot;text/javascript&quot; src=&quot;https://ajax.googleapis.com/ajax/libs/jquery/1.9.1/jquery.min.js&quot;&gt;&lt;/script&gt; &lt;script type=&quot;text/javascript&quot; src=&quot;https://code.highcharts.com/6/highcharts.js&quot;&gt;&lt;/script&gt; &lt;script type=&quot;text/javascript&quot; src=&quot;https://code.highcharts.com/6/highcharts-more.js&quot;&gt;&lt;/script&gt; &lt;script type=&quot;text/javascript&quot; src=&quot;https://code.highcharts.com/6/modules/heatmap.js&quot;&gt;&lt;/script&gt; &lt;script type=&quot;text/javascript&quot; src=&quot;https://code.highcharts.com/6/modules/exporting.js&quot;&gt;&lt;/script&gt; &lt;/head&gt; &lt;body style=&quot;margin:0;padding:0&quot;&gt; &lt;div id=&quot;container&quot; style=&quot;&quot;&gt;Loading....&lt;/div&gt; &lt;script&gt; $(function(){ Highcharts.setOptions({&quot;global&quot;: {}, &quot;lang&quot;: {}}); var option = {&quot;chart&quot;: {&quot;renderTo&quot;: &quot;container&quot;, &quot;backgroundColor&quot;: &quot;#FFFFFF&quot;, &quot;style&quot;: {&quot;fontFamily&quot;: &quot;Dosis, sans-serif&quot;}}, &quot;colors&quot;: [&quot;#2C6A3E&quot;, &quot;#09654E&quot;, &quot;#005F5A&quot;, &quot;#00585F&quot;, &quot;#1D505F&quot;, &quot;#2F4858&quot;], &quot;credits&quot;: {&quot;enabled&quot;: false}, &quot;drilldown&quot;: {}, &quot;exporting&quot;: {}, &quot;labels&quot;: {}, &quot;legend&quot;: {&quot;itemStyle&quot;: {&quot;fontWeight&quot;: &quot;bold&quot;, &quot;fontSize&quot;: &quot;10px&quot;}}, &quot;loading&quot;: {}, &quot;navigation&quot;: {}, &quot;pane&quot;: {}, &quot;plotOptions&quot;: {}, &quot;series&quot;: {}, &quot;subtitle&quot;: {}, &quot;title&quot;: {&quot;text&quot;: &quot;CASHFLOW x Time&quot;, &quot;style&quot;: {&quot;fontSize&quot;: &quot;12px&quot;, &quot;fontWeight&quot;: &quot;bold&quot;, &quot;textTransform&quot;: &quot;uppercase&quot;}}, &quot;tooltip&quot;: {&quot;borderWidth&quot;: 0, &quot;backgroundColor&quot;: &quot;rgba(219,219,216,0.8)&quot;, &quot;shadow&quot;: false}, &quot;xAxis&quot;: {&quot;gridLineWidth&quot;: 1, &quot;labels&quot;: {&quot;style&quot;: {&quot;fontSize&quot;: &quot;10px&quot;}}, &quot;title&quot;: {&quot;text&quot;: &quot;months&quot;}}, &quot;yAxis&quot;: {&quot;minorTickInterval&quot;: &quot;auto&quot;, &quot;title&quot;: {&quot;style&quot;: {&quot;textTransform&quot;: &quot;uppercase&quot;}, &quot;text&quot;: &quot;cashflow&quot;}, &quot;labels&quot;: {&quot;style&quot;: {&quot;fontSize&quot;: &quot;10px&quot;}}}}; var chart = new Highcharts.Chart(option); var data = [{&quot;data&quot;: [[0, -10000.0], [1, 596.3732903173878], [2, 580.2013913419318], [3, -435.6377976576299], [4, 823.0665137417366], [5, 788.463380537158], [6, 755.3518773640909], [7, 725.8352792785453], [8, 695.7330513394835], [9, 665.0169594930655], [10, -215.60600685808492], [11, 645.5198985453904], [12, 622.2068813019084], [13, 600.4532432882072], [14, 582.1733341610549], [15, 564.5521464409815], [16, 547.1452862267776], [17, -59.35938646856158], [18, 537.5541697180511], [19, 522.1736266979337], [20, 506.99991891529424], [21, 493.5651096473446], [22, 479.86048164287706], [23, 466.1162173701439], [24, 41.20028753946502], [25, 455.09217863698484], [26, 442.07144837933384], [27, 429.10247202685866], [28, 417.41184538031644], [29, 405.5918625938519], [30, 393.8718289304874], [31, 93.33888013027172], [32, 381.30768413314684], [33, 369.65542122221626], [34, 357.9635301597668], [35, 347.186672070154], [36, 336.3332853763511], [37, 44.08806521492347], [38, -163.03590591851622], [39, 44.979164838226275], [40, 41.70811553311386], [41, 38.453291624047665], [42, 35.957288302712115], [43, 33.503952415725436], [44, 31.22273307668224], [45, -115.46260245788204], [46, 31.873780992205543], [47, 29.553641021741875], [48, 27.232882583548406], [49, 25.47591810606329], [50, 23.765976066166846], [51, 22.185380315364437], [52, -82.04343194516119], [53, 22.659708016195356], [54, 21.009354471900483], [55, 19.35077150313297], [56, 18.108486034540324], [57, 16.90815909180989], [58, 15.805791249111842], [59, -58.45186382990968], [60, 16.14985795325686], [61, 14.973771932424459], [62, 13.785780070147432], [63, 12.90496239064541], [64, 12.058846821989102], [65, 11.28459872693804], [66, -41.73230452130726], [67, 11.533911838172875], [68, 10.693764753721986], [69, 9.84242320090816], [70, 9.215635357979531], [71, 8.616469611360499], [72, 8.070324634161125]], &quot;type&quot;: &quot;bar&quot;, &quot;name&quot;: &quot;CASHFLOW&quot;}]; var dataLen = data.length; for (var ix = 0; ix &lt; dataLen; ix++) { chart.addSeries(data[ix]); } }); &lt;/script&gt; &lt;/body&gt; &lt;/html&gt;\" height=520 width=820></iframe>"
      ],
      "text/plain": [
       "<highcharts.highcharts.highcharts.Highchart at 0x7f953c698e50>"
      ]
     },
     "execution_count": 4,
     "metadata": {},
     "output_type": "execute_result"
    }
   ],
   "source": [
    "client.bar_chart()"
   ]
  },
  {
   "cell_type": "code",
   "execution_count": 5,
   "metadata": {},
   "outputs": [
    {
     "data": {
      "text/html": [
       "<iframe style=\"border:0;outline:none;overflow:hidden\" srcdoc=\"&lt;!DOCTYPE html&gt; &lt;html lang=&quot;en&quot;&gt; &lt;head&gt; &lt;meta charset=&quot;utf-8&quot; /&gt; &lt;link href=&quot;https://www.highcharts.com/highslide/highslide.css&quot; rel=&quot;stylesheet&quot; /&gt; &lt;script type=&quot;text/javascript&quot; src=&quot;https://ajax.googleapis.com/ajax/libs/jquery/1.9.1/jquery.min.js&quot;&gt;&lt;/script&gt; &lt;script type=&quot;text/javascript&quot; src=&quot;https://code.highcharts.com/6/highcharts.js&quot;&gt;&lt;/script&gt; &lt;script type=&quot;text/javascript&quot; src=&quot;https://code.highcharts.com/6/highcharts-more.js&quot;&gt;&lt;/script&gt; &lt;script type=&quot;text/javascript&quot; src=&quot;https://code.highcharts.com/6/modules/heatmap.js&quot;&gt;&lt;/script&gt; &lt;script type=&quot;text/javascript&quot; src=&quot;https://code.highcharts.com/6/modules/exporting.js&quot;&gt;&lt;/script&gt; &lt;/head&gt; &lt;body style=&quot;margin:0;padding:0&quot;&gt; &lt;div id=&quot;container&quot; style=&quot;&quot;&gt;Loading....&lt;/div&gt; &lt;script&gt; $(function(){ Highcharts.setOptions({&quot;global&quot;: {}, &quot;lang&quot;: {}}); var option = {&quot;chart&quot;: {&quot;renderTo&quot;: &quot;container&quot;, &quot;backgroundColor&quot;: &quot;#FFFFFF&quot;, &quot;style&quot;: {&quot;fontFamily&quot;: &quot;Dosis, sans-serif&quot;}}, &quot;colors&quot;: [&quot;#2C6A3E&quot;, &quot;#09654E&quot;, &quot;#005F5A&quot;, &quot;#00585F&quot;, &quot;#1D505F&quot;, &quot;#2F4858&quot;], &quot;credits&quot;: {&quot;enabled&quot;: false}, &quot;drilldown&quot;: {}, &quot;exporting&quot;: {}, &quot;labels&quot;: {}, &quot;legend&quot;: {&quot;itemStyle&quot;: {&quot;fontWeight&quot;: &quot;bold&quot;, &quot;fontSize&quot;: &quot;10px&quot;}}, &quot;loading&quot;: {}, &quot;navigation&quot;: {}, &quot;pane&quot;: {}, &quot;plotOptions&quot;: {}, &quot;series&quot;: {}, &quot;subtitle&quot;: {}, &quot;title&quot;: {&quot;text&quot;: &quot;BALANCE x Time&quot;, &quot;style&quot;: {&quot;fontSize&quot;: &quot;12px&quot;, &quot;fontWeight&quot;: &quot;bold&quot;, &quot;textTransform&quot;: &quot;uppercase&quot;}}, &quot;tooltip&quot;: {&quot;borderWidth&quot;: 0, &quot;backgroundColor&quot;: &quot;rgba(219,219,216,0.8)&quot;, &quot;shadow&quot;: false}, &quot;xAxis&quot;: {&quot;gridLineWidth&quot;: 1, &quot;labels&quot;: {&quot;style&quot;: {&quot;fontSize&quot;: &quot;10px&quot;}}, &quot;title&quot;: {&quot;text&quot;: &quot;months&quot;}}, &quot;yAxis&quot;: {&quot;minorTickInterval&quot;: &quot;auto&quot;, &quot;title&quot;: {&quot;style&quot;: {&quot;textTransform&quot;: &quot;uppercase&quot;}, &quot;text&quot;: &quot;balance&quot;}, &quot;labels&quot;: {&quot;style&quot;: {&quot;fontSize&quot;: &quot;10px&quot;}}}}; var chart = new Highcharts.Chart(option); var data = [{&quot;data&quot;: [[0, -10000.0], [1, -9871.13], [2, -9737.11], [3, -10597.72], [4, -10316.44], [5, -10018.470000000001], [6, -9702.689999999999], [7, -9367.91], [8, -9012.86], [9, -8636.21], [10, -9136.79], [11, -8852.79], [12, -8553.7], [13, -8238.63], [14, -7906.59], [15, -7556.58], [16, -7187.5], [17, -7418.91], [18, -7103.44], [19, -6772.77], [20, -6426.1], [21, -6062.54], [22, -5681.2], [23, -5281.1], [24, -5292.9800000000005], [25, -4917.7300000000005], [26, -4525.68], [27, -4116.0], [28, -3687.85], [29, -3240.3], [30, -2772.4], [31, -2585.6], [32, -2119.4], [33, -1633.29], [34, -1126.37], [35, -597.6999999999999], [36, -46.3], [37, 0.0], [38, -163.04], [39, -140.81], [40, -116.81], [41, -90.89], [42, -62.89], [43, -32.65], [44, 0.0], [45, -115.46], [46, -99.72], [47, -82.72], [48, -64.37], [49, -44.54], [50, -23.13], [51, 0.0], [52, -82.04], [53, -70.86], [54, -58.78], [55, -45.74], [56, -31.65], [57, -16.43], [58, 0.0], [59, -58.45], [60, -50.48], [61, -41.88], [62, -32.58], [63, -22.55], [64, -11.71], [65, 0.0], [66, -41.73], [67, -36.04], [68, -29.9], [69, -23.26], [70, -16.1], [71, -8.36], [72, 0.0]], &quot;type&quot;: &quot;bar&quot;, &quot;name&quot;: &quot;BALANCE&quot;}]; var dataLen = data.length; for (var ix = 0; ix &lt; dataLen; ix++) { chart.addSeries(data[ix]); } }); &lt;/script&gt; &lt;/body&gt; &lt;/html&gt;\" height=520 width=820></iframe>"
      ],
      "text/plain": [
       "<highcharts.highcharts.highcharts.Highchart at 0x7f953de8c160>"
      ]
     },
     "execution_count": 5,
     "metadata": {},
     "output_type": "execute_result"
    }
   ],
   "source": [
    "client.bar_chart('balance')"
   ]
  },
  {
   "cell_type": "markdown",
   "metadata": {},
   "source": [
    "#### Copy the whole dataframe to be used in Excel"
   ]
  },
  {
   "cell_type": "code",
   "execution_count": 6,
   "metadata": {},
   "outputs": [],
   "source": [
    "# ----------------------\n",
    "#  Copy to Excel \n",
    "# ----------------------\n",
    "ltv, stats = client.ltv()\n",
    "ltv.to_clipboard(excel=True,sep='\\t')"
   ]
  },
  {
   "cell_type": "markdown",
   "metadata": {},
   "source": [
    "### Create Lifetime Charts of products"
   ]
  },
  {
   "cell_type": "code",
   "execution_count": 7,
   "metadata": {},
   "outputs": [
    {
     "data": {
      "text/html": [
       "<iframe style=\"border:0;outline:none;overflow:hidden\" srcdoc=\"&lt;!DOCTYPE html&gt; &lt;html lang=&quot;en&quot;&gt; &lt;head&gt; &lt;meta charset=&quot;utf-8&quot; /&gt; &lt;link href=&quot;https://www.highcharts.com/highslide/highslide.css&quot; rel=&quot;stylesheet&quot; /&gt; &lt;script type=&quot;text/javascript&quot; src=&quot;https://ajax.googleapis.com/ajax/libs/jquery/1.9.1/jquery.min.js&quot;&gt;&lt;/script&gt; &lt;script type=&quot;text/javascript&quot; src=&quot;https://code.highcharts.com/6/highcharts.js&quot;&gt;&lt;/script&gt; &lt;script type=&quot;text/javascript&quot; src=&quot;https://code.highcharts.com/6/highcharts-more.js&quot;&gt;&lt;/script&gt; &lt;script type=&quot;text/javascript&quot; src=&quot;https://code.highcharts.com/6/modules/heatmap.js&quot;&gt;&lt;/script&gt; &lt;script type=&quot;text/javascript&quot; src=&quot;https://code.highcharts.com/6/modules/exporting.js&quot;&gt;&lt;/script&gt; &lt;/head&gt; &lt;body style=&quot;margin:0;padding:0&quot;&gt; &lt;div id=&quot;container&quot; style=&quot;&quot;&gt;Loading....&lt;/div&gt; &lt;script&gt; $(function(){ Highcharts.setOptions({&quot;global&quot;: {}, &quot;lang&quot;: {}}); var option = {&quot;chart&quot;: {&quot;renderTo&quot;: &quot;container&quot;, &quot;backgroundColor&quot;: &quot;#FFFFFF&quot;, &quot;style&quot;: {&quot;fontFamily&quot;: &quot;Dosis, sans-serif&quot;}}, &quot;colors&quot;: [&quot;#2C6A3E&quot;, &quot;#09654E&quot;, &quot;#005F5A&quot;, &quot;#00585F&quot;, &quot;#1D505F&quot;, &quot;#2F4858&quot;], &quot;credits&quot;: {&quot;enabled&quot;: false}, &quot;drilldown&quot;: {}, &quot;exporting&quot;: {}, &quot;labels&quot;: {}, &quot;legend&quot;: {&quot;itemStyle&quot;: {&quot;fontWeight&quot;: &quot;bold&quot;, &quot;fontSize&quot;: &quot;10px&quot;}}, &quot;loading&quot;: {}, &quot;navigation&quot;: {}, &quot;pane&quot;: {}, &quot;plotOptions&quot;: {}, &quot;series&quot;: {}, &quot;subtitle&quot;: {}, &quot;title&quot;: {&quot;text&quot;: &quot;Product | Unsecured Personal Loan&quot;, &quot;style&quot;: {&quot;fontSize&quot;: &quot;12px&quot;, &quot;fontWeight&quot;: &quot;bold&quot;, &quot;textTransform&quot;: &quot;uppercase&quot;}}, &quot;tooltip&quot;: {&quot;borderWidth&quot;: 0, &quot;backgroundColor&quot;: &quot;rgba(219,219,216,0.8)&quot;, &quot;shadow&quot;: false}, &quot;xAxis&quot;: {&quot;gridLineWidth&quot;: 1, &quot;labels&quot;: {&quot;style&quot;: {&quot;fontSize&quot;: &quot;10px&quot;}}, &quot;title&quot;: {&quot;text&quot;: &quot;Months&quot;}}, &quot;yAxis&quot;: {&quot;minorTickInterval&quot;: &quot;auto&quot;, &quot;title&quot;: {&quot;style&quot;: {&quot;textTransform&quot;: &quot;uppercase&quot;}, &quot;text&quot;: &quot;Ticket Size&quot;}, &quot;labels&quot;: {&quot;style&quot;: {&quot;fontSize&quot;: &quot;10px&quot;}}}}; var chart = new Highcharts.Chart(option); var data = [{&quot;data&quot;: [[0, 10000]], &quot;type&quot;: &quot;bar&quot;, &quot;name&quot;: &quot;Unsecured Personal Loan&quot;}]; var dataLen = data.length; for (var ix = 0; ix &lt; dataLen; ix++) { chart.addSeries(data[ix]); } }); &lt;/script&gt; &lt;/body&gt; &lt;/html&gt;\" height=520 width=820></iframe>"
      ],
      "text/plain": [
       "<highcharts.highcharts.highcharts.Highchart at 0x7f953de8c250>"
      ]
     },
     "metadata": {},
     "output_type": "display_data"
    },
    {
     "data": {
      "text/html": [
       "<iframe style=\"border:0;outline:none;overflow:hidden\" srcdoc=\"&lt;!DOCTYPE html&gt; &lt;html lang=&quot;en&quot;&gt; &lt;head&gt; &lt;meta charset=&quot;utf-8&quot; /&gt; &lt;link href=&quot;https://www.highcharts.com/highslide/highslide.css&quot; rel=&quot;stylesheet&quot; /&gt; &lt;script type=&quot;text/javascript&quot; src=&quot;https://ajax.googleapis.com/ajax/libs/jquery/1.9.1/jquery.min.js&quot;&gt;&lt;/script&gt; &lt;script type=&quot;text/javascript&quot; src=&quot;https://code.highcharts.com/6/highcharts.js&quot;&gt;&lt;/script&gt; &lt;script type=&quot;text/javascript&quot; src=&quot;https://code.highcharts.com/6/highcharts-more.js&quot;&gt;&lt;/script&gt; &lt;script type=&quot;text/javascript&quot; src=&quot;https://code.highcharts.com/6/modules/heatmap.js&quot;&gt;&lt;/script&gt; &lt;script type=&quot;text/javascript&quot; src=&quot;https://code.highcharts.com/6/modules/exporting.js&quot;&gt;&lt;/script&gt; &lt;/head&gt; &lt;body style=&quot;margin:0;padding:0&quot;&gt; &lt;div id=&quot;container&quot; style=&quot;&quot;&gt;Loading....&lt;/div&gt; &lt;script&gt; $(function(){ Highcharts.setOptions({&quot;global&quot;: {}, &quot;lang&quot;: {}}); var option = {&quot;chart&quot;: {&quot;renderTo&quot;: &quot;container&quot;, &quot;backgroundColor&quot;: &quot;#FFFFFF&quot;, &quot;style&quot;: {&quot;fontFamily&quot;: &quot;Dosis, sans-serif&quot;}}, &quot;colors&quot;: [&quot;#2C6A3E&quot;, &quot;#09654E&quot;, &quot;#005F5A&quot;, &quot;#00585F&quot;, &quot;#1D505F&quot;, &quot;#2F4858&quot;], &quot;credits&quot;: {&quot;enabled&quot;: false}, &quot;drilldown&quot;: {}, &quot;exporting&quot;: {}, &quot;labels&quot;: {}, &quot;legend&quot;: {&quot;itemStyle&quot;: {&quot;fontWeight&quot;: &quot;bold&quot;, &quot;fontSize&quot;: &quot;10px&quot;}}, &quot;loading&quot;: {}, &quot;navigation&quot;: {}, &quot;pane&quot;: {}, &quot;plotOptions&quot;: {}, &quot;series&quot;: {}, &quot;subtitle&quot;: {}, &quot;title&quot;: {&quot;text&quot;: &quot;Product | Limitinho&quot;, &quot;style&quot;: {&quot;fontSize&quot;: &quot;12px&quot;, &quot;fontWeight&quot;: &quot;bold&quot;, &quot;textTransform&quot;: &quot;uppercase&quot;}}, &quot;tooltip&quot;: {&quot;borderWidth&quot;: 0, &quot;backgroundColor&quot;: &quot;rgba(219,219,216,0.8)&quot;, &quot;shadow&quot;: false}, &quot;xAxis&quot;: {&quot;gridLineWidth&quot;: 1, &quot;labels&quot;: {&quot;style&quot;: {&quot;fontSize&quot;: &quot;10px&quot;}}, &quot;title&quot;: {&quot;text&quot;: &quot;Months&quot;}}, &quot;yAxis&quot;: {&quot;minorTickInterval&quot;: &quot;auto&quot;, &quot;title&quot;: {&quot;style&quot;: {&quot;textTransform&quot;: &quot;uppercase&quot;}, &quot;text&quot;: &quot;Ticket Size&quot;}, &quot;labels&quot;: {&quot;style&quot;: {&quot;fontSize&quot;: &quot;10px&quot;}}}}; var chart = new Highcharts.Chart(option); var data = [{&quot;data&quot;: [[3, 1000], [10, 684.0], [17, 472.7808], [24, 329.509306368], [31, 231.17318504998508], [38, 163.03590591851622], [45, 115.46260245788204], [52, 82.04343194516119], [59, 58.45186382990968], [66, 41.73230452130726]], &quot;type&quot;: &quot;bar&quot;, &quot;name&quot;: &quot;Limitinho&quot;}]; var dataLen = data.length; for (var ix = 0; ix &lt; dataLen; ix++) { chart.addSeries(data[ix]); } }); &lt;/script&gt; &lt;/body&gt; &lt;/html&gt;\" height=520 width=820></iframe>"
      ],
      "text/plain": [
       "<highcharts.highcharts.highcharts.Highchart at 0x7f953de8c250>"
      ]
     },
     "metadata": {},
     "output_type": "display_data"
    }
   ],
   "source": [
    "# Create A series of product charts to display changes along time\n",
    "df, stats = client.ltv()\n",
    "# Creates a series of charts displaying how the products change over time\n",
    "for product in client.products:\n",
    "    x = stats[product['product'].uuid]['start_month_list']\n",
    "    y = stats[product['product'].uuid]['ticket_size_list']\n",
    "    display(\n",
    "        plot_chart(x, y, 'Months', 'Ticket Size', 'bar', \n",
    "        product['product'].product_name, \n",
    "        f\"Product | {product['product'].product_name}\")\n",
    "        )\n"
   ]
  },
  {
   "cell_type": "code",
   "execution_count": 8,
   "metadata": {},
   "outputs": [
    {
     "data": {
      "text/html": [
       "<h1>Summary Results for Client</h1>"
      ],
      "text/plain": [
       "<IPython.core.display.HTML object>"
      ]
     },
     "metadata": {},
     "output_type": "display_data"
    },
    {
     "data": {
      "text/html": [
       "\n",
       "        <table>\n",
       "        <thead>\n",
       "          <tr>\n",
       "            <td style='text-align: left;'>\n",
       "              Product\n",
       "            </td>\n",
       "            <td style='text-align: right;'>\n",
       "                Ticket Size\n",
       "            </td>\n",
       "            <td>\n",
       "                Interest Rate\n",
       "            </td>\n",
       "            <td>\n",
       "                FPD30\n",
       "            </td>\n",
       "            <td>\n",
       "                EVER30\n",
       "            </td>\n",
       "            <td>\n",
       "                Renewal<br>Rate\n",
       "            </td>\n",
       "            <td>\n",
       "                Improvement<br>Rate\n",
       "            </td>\n",
       "          </tr>\n",
       "        </thead>\n",
       "        <tbody>\n",
       "        <tr><td style='text-align: left;'>Unsecured Personal Loan</td><td style='text-align: right;'> $10,000</td><td style='text-align: right;'>4.00%</td><td style='text-align: right;'>5.00%</td><td style='text-align: right;'>45.00%</td><td style='text-align: right;'>40.00%</td><td style='text-align: right;'>80.00%</td></tr><tr><td style='text-align: left;'>Limitinho</td><td style='text-align: right;'> $1,000</td><td style='text-align: right;'>8.00%</td><td style='text-align: right;'>1.00%</td><td style='text-align: right;'>5.00%</td><td style='text-align: right;'>80.00%</td><td style='text-align: right;'>80.00%</td></tr></tbody></table>"
      ],
      "text/plain": [
       "<IPython.core.display.HTML object>"
      ]
     },
     "metadata": {},
     "output_type": "display_data"
    },
    {
     "data": {
      "text/html": [
       "<h1>Product Lifetime Info</h1>"
      ],
      "text/plain": [
       "<IPython.core.display.HTML object>"
      ]
     },
     "metadata": {},
     "output_type": "display_data"
    },
    {
     "data": {
      "text/html": [
       "<h2>Unsecured Personal Loan</h2><hr>\n",
       "            <table>\n",
       "            <tbody>\n",
       "            <tr>\n",
       "                <th>Cycle</th> \n",
       "            <th>1</th></tr><tr><td>Start Month</td><td>0</td></tr><tr><td>End Month</td><td>36</td></tr><tr><td>Ticket Size</td><td> $10,000</td></tr><tr><td>FPD30 - EVER30</td><td>5.00% - 45.00%</td></tr><tr><td>Performing (Cycle)</td><td>54.45 %</td></tr><tr><td>Performing (Start)</td><td>54.45 %</td></tr></tbody></table>"
      ],
      "text/plain": [
       "<IPython.core.display.HTML object>"
      ]
     },
     "metadata": {},
     "output_type": "display_data"
    },
    {
     "data": {
      "text/html": [
       "<h2>Limitinho</h2><hr>\n",
       "            <table>\n",
       "            <tbody>\n",
       "            <tr>\n",
       "                <th>Cycle</th> \n",
       "            <th>1</th><th>2</th><th>3</th><th>4</th><th>5</th><th>6</th><th>7</th><th>8</th><th>9</th><th>10</th></tr><tr><td>Start Month</td><td>3</td><td>10</td><td>17</td><td>24</td><td>31</td><td>38</td><td>45</td><td>52</td><td>59</td><td>66</td></tr><tr><td>End Month</td><td>9</td><td>16</td><td>23</td><td>30</td><td>37</td><td>44</td><td>51</td><td>58</td><td>65</td><td>72</td></tr><tr><td>Ticket Size</td><td> $1,000</td><td> $684</td><td> $473</td><td> $330</td><td> $231</td><td> $163</td><td> $115</td><td> $82</td><td> $58</td><td> $42</td></tr><tr><td>FPD30 - EVER30</td><td>1.00% - 5.00%</td><td>0.80% - 4.00%</td><td>0.64% - 3.20%</td><td>0.51% - 2.56%</td><td>0.41% - 2.05%</td><td>0.33% - 1.64%</td><td>0.26% - 1.31%</td><td>0.21% - 1.05%</td><td>0.17% - 0.84%</td><td>0.13% - 0.67%</td></tr><tr><td>Performing (Cycle)</td><td>85.50 %</td><td>86.40 %</td><td>87.12 %</td><td>87.70 %</td><td>88.16 %</td><td>88.53 %</td><td>88.82 %</td><td>89.06 %</td><td>89.25 %</td><td>89.40 %</td></tr><tr><td>Performing (Start)</td><td>85.50 %</td><td>73.87 %</td><td>64.36 %</td><td>56.44 %</td><td>49.75 %</td><td>44.05 %</td><td>39.12 %</td><td>34.84 %</td><td>31.09 %</td><td>27.80 %</td></tr></tbody></table>"
      ],
      "text/plain": [
       "<IPython.core.display.HTML object>"
      ]
     },
     "metadata": {},
     "output_type": "display_data"
    },
    {
     "data": {
      "text/html": [
       "\n",
       "        <h3>Glossary</h3>\n",
       "        <table>\n",
       "            <tbody>\n",
       "            <tr>\n",
       "                <td style='text-align: left;'><strong>ℹ️ Ticket Size</strong></td>\n",
       "                <td style='text-align: left;'>Average First Ticket for this product and this client base</td>\n",
       "            </tr>\n",
       "            <tr>\n",
       "                <td style='text-align: left;'><strong>ℹ️ Interest Rate</strong></td>\n",
       "                <td style='text-align: left;'>Average monthly interest rate</td>\n",
       "            </tr>\n",
       "            <tr>\n",
       "                <td style='text-align: left;'><strong>ℹ️ FPD30</strong></td>\n",
       "                <td style='text-align: left;'>First Payment Default. This is the percentage of payments expected to be received\n",
       "                after 30 days. For example, FPD30 = 2% equals 98% of payments are received.\n",
       "                </td>\n",
       "            </tr>\n",
       "            <tr>\n",
       "                <td style='text-align: left;'><strong>ℹ️ EVER30</strong></td>\n",
       "                <td style='text-align: left;'>Like FPD30, this is a percentage of payments received. But on the last payment\n",
       "                month instead of the first month.</td>\n",
       "            </tr>\n",
       "            <tr>\n",
       "                <td style='text-align: left;'><strong>ℹ️ Renewal Rate</strong></td>\n",
       "                <td style='text-align: left;'>Percentage of clients that renew the loan after fully paid. Please note this\n",
       "                only applies to performing clients.</td>\n",
       "            </tr>\n",
       "            <tr>\n",
       "                <td style='text-align: left;'><strong>ℹ️ Improvement Rate</strong></td>\n",
       "                <td style='text-align: left;'>For clients that renew, how much their FPD30 and EVER30 improve. 0.80 means that the\n",
       "            new FPD30 is 80% of the previous.</td>\n",
       "            </tr>\n",
       "            <tr>\n",
       "                <td style='text-align: left;'><strong>ℹ️ Performing Cycle</strong></td>\n",
       "                <td style='text-align: left;'>At the end of the cycle, how many clients are performing on their loans. NOTE: This is not a percentage based on initial number of clients but rather from the start of that specific cycle - i.e. this number will increase.</td>\n",
       "            </tr>\n",
       "            </tbody>\n",
       "        </table>\n",
       "        "
      ],
      "text/plain": [
       "<IPython.core.display.HTML object>"
      ]
     },
     "metadata": {},
     "output_type": "display_data"
    }
   ],
   "source": [
    "client.html_table()"
   ]
  }
 ],
 "metadata": {
  "interpreter": {
   "hash": "3ecb7722d5c7f882cafb7c198545de169e5bdeb0bfbf2cfb6caeaaec0658a0d8"
  },
  "kernelspec": {
   "display_name": "myenv",
   "language": "python",
   "name": "myenv"
  },
  "language_info": {
   "codemirror_mode": {
    "name": "ipython",
    "version": 3
   },
   "file_extension": ".py",
   "mimetype": "text/x-python",
   "name": "python",
   "nbconvert_exporter": "python",
   "pygments_lexer": "ipython3",
   "version": "3.9.1"
  }
 },
 "nbformat": 4,
 "nbformat_minor": 4
}
