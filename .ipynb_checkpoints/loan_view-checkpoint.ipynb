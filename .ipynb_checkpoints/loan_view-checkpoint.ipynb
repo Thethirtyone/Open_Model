{
 "cells": [
  {
   "cell_type": "code",
   "execution_count": 1,
   "metadata": {},
   "outputs": [],
   "source": [
    "import nbimporter\n",
    "import pandas as pd\n",
    "from unit_loan import unit_loan\n",
    "import ipywidgets as widgets\n",
    "from ipywidgets import interact, interact_manual\n",
    "# Pandas Warnings & Settings\n",
    "pd.options.mode.chained_assignment = None  # default='warn'\n",
    "pd.options.display.float_format = '{:,.2f}'.format"
   ]
  },
  {
   "cell_type": "code",
   "execution_count": 2,
   "metadata": {},
   "outputs": [],
   "source": [
    "# TEST OF A SAMPLE LOAN\n",
    "# ----------------------\n",
    "\n",
    "# Create empty instance\n",
    "loan = unit_loan()\n",
    "\n",
    "# As an example, let's assume the following known points\n",
    "\n",
    "\n",
    "loan.pd_table.append((27, 0.44))\n",
    "\n",
    "loan.pd_method = {'method': 'pchip', 'order': 3}\n",
    "types = ['linear', 'time', 'index', 'values', 'nearest', 'zero', 'slinear', 'quadratic', \n",
    "        'cubic', 'barycentric', 'krogh', 'spline', 'polynomial', 'from_derivatives', \n",
    "        'piecewise_polynomial', 'pchip', 'akima', 'cubicspline']\n"
   ]
  },
  {
   "cell_type": "code",
   "execution_count": 3,
   "metadata": {},
   "outputs": [
    {
     "data": {
      "image/png": "[encoded data removed]",
      "text/plain": [
       "<Figure size 720x360 with 1 Axes>"
      ]
     },
     "metadata": {
      "needs_background": "light"
     },
     "output_type": "display_data"
    }
   ],
   "source": [
    "loan.pd_chart()"
   ]
  },
  {
   "cell_type": "code",
   "execution_count": 4,
   "metadata": {},
   "outputs": [
    {
     "data": {
      "text/plain": [
       "{'irr': 0.0288,\n",
       " 'months_to_be': 19,\n",
       " 'months_to_be_perc_total': 0.6333333333333333,\n",
       " 'sum_pmts': 5627.318156895357,\n",
       " 'MOIC': 1.5627318156895358}"
      ]
     },
     "execution_count": 4,
     "metadata": {},
     "output_type": "execute_result"
    }
   ],
   "source": [
    "loan.stats()"
   ]
  },
  {
   "cell_type": "code",
   "execution_count": 16,
   "metadata": {},
   "outputs": [
    {
     "data": {
      "application/vnd.jupyter.widget-view+json": {
       "model_id": "d0c072476a754d48b8ea6327ac761109",
       "version_major": 2,
       "version_minor": 0
      },
      "text/plain": [
       "interactive(children=(FloatSlider(value=0.55, description='fpd30', max=1.6500000000000001, min=-0.55), Output(…"
      ]
     },
     "metadata": {},
     "output_type": "display_data"
    }
   ],
   "source": [
    "@interact\n",
    "def show_loan_stats(fpd30=loan.fpd30):\n",
    "    loan.fpd30 = fpd30\n",
    "    loan_cycle = loan.loan_cycle()\n",
    "    return loan_cycle['cashflow'].sum()"
   ]
  },
  {
   "cell_type": "code",
   "execution_count": null,
   "metadata": {},
   "outputs": [],
   "source": []
  }
 ],
 "metadata": {
  "kernelspec": {
   "display_name": "myenv",
   "language": "python",
   "name": "myenv"
  },
  "language_info": {
   "codemirror_mode": {
    "name": "ipython",
    "version": 3
   },
   "file_extension": ".py",
   "mimetype": "text/x-python",
   "name": "python",
   "nbconvert_exporter": "python",
   "pygments_lexer": "ipython3",
   "version": "3.9.1"
  }
 },
 "nbformat": 4,
 "nbformat_minor": 4
}
