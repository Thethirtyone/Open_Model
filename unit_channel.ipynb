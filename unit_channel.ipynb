{
 "cells": [
  {
   "cell_type": "code",
   "execution_count": 3,
   "metadata": {},
   "outputs": [],
   "source": [
    "# Imports go here\n",
    "import pandas as pd\n",
    "import numpy as np\n",
    "import numpy_financial as npf\n",
    "from datetime import date\n",
    "from copy import deepcopy\n",
    "from IPython.display import display, HTML, display_html\n",
    "from highcharts import Highchart\n",
    "from chart_builder import plot_chart, CHART_DEFAULTS\n",
    "# Pandas Warnings & Settings\n",
    "pd.options.mode.chained_assignment = None  # default='warn'\n",
    "pd.options.display.float_format = '{:,.2f}'.format\n",
    "# Import Unit Loan from the unit_loan notebook\n",
    "import import_ipynb\n",
    "from unit_loan import unit_loan\n",
    "from unit_client import unit_client\n",
    "from utils import pickle_it, make_safe_filename"
   ]
  },
  {
   "cell_type": "markdown",
   "metadata": {},
   "source": [
    "# Main Code and Unit Channel class\n",
    "This is the main code for modeling a channel. A channel is a group of different client units.\n"
   ]
  },
  {
   "cell_type": "code",
   "execution_count": null,
   "metadata": {},
   "outputs": [],
   "source": [
    "class unit_channel():\n",
    "    def __init__(self):\n",
    "        # ------------------------------------------------------------\n",
    "        # CHANNEL BASIC INFORMATION\n",
    "        # ------------------------------------------------------------\n",
    "        self.channel_name = 'Channel XPTO'\n",
    "        self.channel_origination = [(0,0)]    # This is a tuple list with (month, origination in $)\n",
    "                                              # For example (1, 10000) means that it's expected\n",
    "                                              # to originate 10,000 in month 1\n",
    "                                              # the last value will be copied until the end\n",
    "        self.channel_mix = []                 # A tuple list with tuples in format\n",
    "                                              # (weight, client) ex: (1, 'geru_a.pkl')\n",
    "                                              # 100% of Geru A clients\n",
    "        self.channel_cac = []                 # List of tuples, (month, cac as % of origination)\n",
    "        self.channel_uw = []                  # Same as CAC but Underwriting Cost\n",
    "        self.origination_revenue = [(0, 0.05)]\n",
    "        self.service_revenue = [(0, 0.03)] "
   ]
  }
 ],
 "metadata": {
  "kernelspec": {
   "display_name": "myenv",
   "language": "python",
   "name": "myenv"
  },
  "language_info": {
   "codemirror_mode": {
    "name": "ipython",
    "version": 3
   },
   "file_extension": ".py",
   "mimetype": "text/x-python",
   "name": "python",
   "nbconvert_exporter": "python",
   "pygments_lexer": "ipython3",
   "version": "3.9.1"
  }
 },
 "nbformat": 4,
 "nbformat_minor": 4
}
