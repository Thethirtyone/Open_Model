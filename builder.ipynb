{
 "cells": [
  {
   "cell_type": "code",
   "execution_count": 4,
   "metadata": {},
   "outputs": [],
   "source": [
    "# Imports go here\n",
    "import pandas as pd\n",
    "import numpy as np\n",
    "import numpy_financial as npf\n",
    "from datetime import date\n",
    "from IPython.display import display, HTML, display_html\n",
    "import matplotlib.pyplot as plt\n",
    "import matplotlib as mpl\n",
    "%matplotlib inline\n",
    "# Pandas Warnings & Settings\n",
    "pd.options.mode.chained_assignment = None  # default='warn'\n",
    "pd.options.display.float_format = '{:,.2f}'.format\n",
    "# Import Unit Loan from the unit_loan notebook\n",
    "import import_ipynb\n",
    "from unit_loan import unit_loan\n",
    "from unit_client import unit_client"
   ]
  },
  {
   "cell_type": "markdown",
   "metadata": {},
   "source": [
    "# Builder\n",
    "\n",
    "This is where a mix of products, clients and channels are stored"
   ]
  },
  {
   "cell_type": "markdown",
   "metadata": {},
   "source": [
    "### Client Group: A-rated Clients Geru"
   ]
  },
  {
   "cell_type": "code",
   "execution_count": 5,
   "metadata": {},
   "outputs": [
    {
     "ename": "TypeError",
     "evalue": "exceptions must derive from BaseException",
     "output_type": "error",
     "traceback": [
      "\u001b[0;31m---------------------------------------------------------------------------\u001b[0m",
      "\u001b[0;31mTypeError\u001b[0m                                 Traceback (most recent call last)",
      "\u001b[0;32m/var/folders/hk/mpc0nc9x26z05z2qxg38j7jr0000gn/T/ipykernel_6408/3819249430.py\u001b[0m in \u001b[0;36m<module>\u001b[0;34m\u001b[0m\n\u001b[1;32m     57\u001b[0m \u001b[0mclient\u001b[0m\u001b[0;34m.\u001b[0m\u001b[0mproducts\u001b[0m\u001b[0;34m.\u001b[0m\u001b[0mappend\u001b[0m\u001b[0;34m(\u001b[0m\u001b[0mproduct\u001b[0m\u001b[0;34m)\u001b[0m\u001b[0;34m\u001b[0m\u001b[0;34m\u001b[0m\u001b[0m\n\u001b[1;32m     58\u001b[0m \u001b[0;34m\u001b[0m\u001b[0m\n\u001b[0;32m---> 59\u001b[0;31m \u001b[0mclient\u001b[0m\u001b[0;34m.\u001b[0m\u001b[0mvalidate\u001b[0m\u001b[0;34m(\u001b[0m\u001b[0;34m)\u001b[0m\u001b[0;34m\u001b[0m\u001b[0;34m\u001b[0m\u001b[0m\n\u001b[0m",
      "\u001b[0;32m~/Documents/Coding/rebel/Open_Model/unit_client.ipynb\u001b[0m in \u001b[0;36mvalidate\u001b[0;34m(self)\u001b[0m\n",
      "\u001b[0;31mTypeError\u001b[0m: exceptions must derive from BaseException"
     ]
    }
   ],
   "source": [
    "# Create empty instance and input assumptions\n",
    "client = unit_client()\n",
    "\n",
    "client.client_type = 'Geru A'\n",
    "client.client_score = 80\n",
    "\n",
    "# _________________________________________________________________\n",
    "#\n",
    "# First product for this client - Unsecured Personal Loan\n",
    "# _________________________________________________________________\n",
    "loan = unit_loan()\n",
    "loan.rate = 0.04\n",
    "loan.term = 30\n",
    "loan.ticket_size = 10000\n",
    "loan.fpd30 = 0.02\n",
    "loan.ever30 = 0.30\n",
    "loan.prepay_start = 0.01\n",
    "loan.prepay_end = 0.01\n",
    "loan.refi_start = 0.02\n",
    "loan.refi_end = 0.01\n",
    "loan.pd_table.append((15, 0.28))\n",
    "loan.pd_method = {'method': 'pchip', 'order': 3}\n",
    "\n",
    "# Attach this loan to the client object\n",
    "product = {\n",
    "    'product': loan,\n",
    "    'start_month': 0,\n",
    "    'renewal_rate': 0.40,\n",
    "    'improvement_at_renewal': 0.80\n",
    "    }\n",
    "client.products.append(product)\n",
    "\n",
    "# _________________________________________________________________\n",
    "#\n",
    "# Second product for this client - Unsecured Personal Loan 'LIMITINHO'\n",
    "# _________________________________________________________________\n",
    "loan = unit_loan()\n",
    "loan.rate = 0.08\n",
    "loan.term = 6\n",
    "loan.ticket_size = 1000\n",
    "loan.fpd30 = 0.01\n",
    "loan.ever30 = 0.05\n",
    "loan.prepay_start = 0.1\n",
    "loan.prepay_end = 0.1\n",
    "loan.refi_start = 0.01\n",
    "loan.refi_end = 0.01\n",
    "loan.pd_table.append((3, 0.05))\n",
    "loan.pd_method = {'method': 'pchip', 'order': 3}\n",
    "\n",
    "# Attach this loan to the client object\n",
    "product = {\n",
    "    'product': loan,\n",
    "    'start_month': 6,\n",
    "    'renewal_rate': 0.80,\n",
    "    'improvement_at_renewal': 0.80\n",
    "    }\n",
    "client.products.append(product)\n",
    "\n",
    "client.validate()"
   ]
  },
  {
   "cell_type": "code",
   "execution_count": null,
   "metadata": {},
   "outputs": [],
   "source": []
  }
 ],
 "metadata": {
  "kernelspec": {
   "display_name": "myenv",
   "language": "python",
   "name": "myenv"
  },
  "language_info": {
   "codemirror_mode": {
    "name": "ipython",
    "version": 3
   },
   "file_extension": ".py",
   "mimetype": "text/x-python",
   "name": "python",
   "nbconvert_exporter": "python",
   "pygments_lexer": "ipython3",
   "version": "3.9.1"
  }
 },
 "nbformat": 4,
 "nbformat_minor": 4
}
