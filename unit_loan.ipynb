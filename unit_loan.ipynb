{
 "cells": [
  {
   "cell_type": "markdown",
   "metadata": {},
   "source": [
    "# Open Co Company Model\n",
    "\n",
    "## Unit Loan"
   ]
  },
  {
   "cell_type": "code",
   "execution_count": 4,
   "metadata": {},
   "outputs": [],
   "source": [
    "# Imports go here\n",
    "import pandas as pd"
   ]
  },
  {
   "cell_type": "code",
   "execution_count": 12,
   "metadata": {},
   "outputs": [
    {
     "output_type": "stream",
     "name": "stdout",
     "text": [
      "       test\nmonth      \n0         1\n1         1\n2         1\n3         1\n4         1\n5         1\n6         1\n7         1\n8         1\n9         1\n10        1\n11        1\n12        1\n13        1\n14        1\n15        1\n16        1\n17        1\n18        1\n19        1\n20        1\n21        1\n22        1\n23        1\n24        1\n25        1\n26        1\n27        1\n28        1\n29        1\n"
     ]
    }
   ],
   "source": [
    "\n",
    "\n",
    "class unit_loan():\n",
    "    def __init__(self):\n",
    "        self.ticket_size = 10000        # average loan size\n",
    "        self.term = 30                  # average loan life in months\n",
    "        self.rate = 0.038               # average monthly interest rate\n",
    "        self.fpd30 = 0.05               # First payment default\n",
    "        self.ever30 = 0.45              # Last payment default on PMTs \n",
    "                                        # (this is the percentage of last \n",
    "                                        # payments expected to default)\n",
    "        self.lgd = 0.65                 # Loss given default\n",
    "        self.prepay = 0.03              # Prepayments expected as percentage\n",
    "        self.pd_table = []              # This is a list of tuples in the format\n",
    "                                        # [(month, probability), (month, probability)]\n",
    "                                        # This list is used to fill the pd table per_month.\n",
    "                                        # If none provided, a linear monthly table is created\n",
    "        self.pd_method = 'linear'       # Pandas DF interpolation for the pd_table\n",
    "                                        # for acceptable methods check\n",
    "                                        # https://tinyurl.com/6mkuyz6n\n",
    "        self.df = self.payment_table()  # Create the payments dataframe\n",
    "    \n",
    "    def payment_table(self):\n",
    "        # First create an empty df only with columns\n",
    "        df = pd.DataFrame(range(0, self.term), columns=['month'])\n",
    "        df = df.set_index('month')\n",
    "        df['test'] = 1\n",
    "        return (df)\n",
    "\n",
    "loan = unit_loan()\n",
    "print(loan.df)"
   ]
  },
  {
   "cell_type": "code",
   "execution_count": null,
   "metadata": {},
   "outputs": [],
   "source": []
  }
 ],
 "metadata": {
  "kernelspec": {
   "name": "python3",
   "display_name": "Python 3.9.1 64-bit"
  },
  "language_info": {
   "codemirror_mode": {
    "name": "ipython",
    "version": 3
   },
   "file_extension": ".py",
   "mimetype": "text/x-python",
   "name": "python",
   "nbconvert_exporter": "python",
   "pygments_lexer": "ipython3",
   "version": "3.9.1"
  },
  "interpreter": {
   "hash": "4cd7ab41f5fca4b9b44701077e38c5ffd31fe66a6cab21e0214b68d958d0e462"
  }
 },
 "nbformat": 4,
 "nbformat_minor": 4
}